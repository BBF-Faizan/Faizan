{
 "cells": [
  {
   "cell_type": "code",
   "execution_count": 1,
   "id": "cd636895",
   "metadata": {},
   "outputs": [],
   "source": [
    "kmc=\"deepak\"\n",
    "kmclu=12"
   ]
  },
  {
   "cell_type": "code",
   "execution_count": 3,
   "id": "f843ffd3",
   "metadata": {},
   "outputs": [
    {
     "name": "stdout",
     "output_type": "stream",
     "text": [
      "deepak\n"
     ]
    }
   ],
   "source": [
    "print(kmc)"
   ]
  },
  {
   "cell_type": "code",
   "execution_count": 4,
   "id": "0e83eb89",
   "metadata": {},
   "outputs": [
    {
     "data": {
      "text/plain": [
       "int"
      ]
     },
     "execution_count": 4,
     "metadata": {},
     "output_type": "execute_result"
    }
   ],
   "source": [
    "type(kmclu)"
   ]
  },
  {
   "cell_type": "code",
   "execution_count": 8,
   "id": "d1fdfd12",
   "metadata": {},
   "outputs": [
    {
     "data": {
      "text/plain": [
       "4577585520"
      ]
     },
     "execution_count": 8,
     "metadata": {},
     "output_type": "execute_result"
    }
   ],
   "source": [
    "id(kmc)"
   ]
  },
  {
   "cell_type": "code",
   "execution_count": 15,
   "id": "e7ecd178",
   "metadata": {},
   "outputs": [],
   "source": [
    "list=[1,2,3,45,445,6]"
   ]
  },
  {
   "cell_type": "code",
   "execution_count": 16,
   "id": "93d3508d",
   "metadata": {},
   "outputs": [
    {
     "data": {
      "text/plain": [
       "1"
      ]
     },
     "execution_count": 16,
     "metadata": {},
     "output_type": "execute_result"
    }
   ],
   "source": [
    "list[0]"
   ]
  },
  {
   "cell_type": "code",
   "execution_count": 11,
   "id": "ff7fb339",
   "metadata": {},
   "outputs": [
    {
     "name": "stdout",
     "output_type": "stream",
     "text": [
      "[1, 2, 3, 45, 445, 6]\n"
     ]
    }
   ],
   "source": [
    "print(list)"
   ]
  },
  {
   "cell_type": "code",
   "execution_count": 2,
   "id": "b99fd823",
   "metadata": {},
   "outputs": [],
   "source": [
    "trainee=[\n",
    "    ['deepak',7398342916,'btech'],\n",
    "    ['abdul',234354,'bca'],\n",
    "    ['suryansh',435435,'bed']\n",
    "]"
   ]
  },
  {
   "cell_type": "code",
   "execution_count": 3,
   "id": "9fbff40f",
   "metadata": {},
   "outputs": [],
   "source": [
    "index2=trainee[2]"
   ]
  },
  {
   "cell_type": "code",
   "execution_count": 4,
   "id": "8843bcde",
   "metadata": {},
   "outputs": [
    {
     "name": "stdout",
     "output_type": "stream",
     "text": [
      "['suryansh', 435435, 'bed']\n"
     ]
    }
   ],
   "source": [
    "print(index2)"
   ]
  },
  {
   "cell_type": "code",
   "execution_count": 5,
   "id": "06e07fba",
   "metadata": {},
   "outputs": [
    {
     "data": {
      "text/plain": [
       "'suryansh'"
      ]
     },
     "execution_count": 5,
     "metadata": {},
     "output_type": "execute_result"
    }
   ],
   "source": [
    "trainee[2][0]"
   ]
  },
  {
   "cell_type": "code",
   "execution_count": 6,
   "id": "4873fae7",
   "metadata": {},
   "outputs": [
    {
     "data": {
      "text/plain": [
       "[['abdul', 234354, 'bca'], ['suryansh', 435435, 'bed']]"
      ]
     },
     "execution_count": 6,
     "metadata": {},
     "output_type": "execute_result"
    }
   ],
   "source": [
    "trainee[1:3]"
   ]
  },
  {
   "cell_type": "code",
   "execution_count": null,
   "id": "c07d838a",
   "metadata": {},
   "outputs": [],
   "source": []
  },
  {
   "cell_type": "code",
   "execution_count": null,
   "id": "39a998e7",
   "metadata": {},
   "outputs": [],
   "source": []
  }
 ],
 "metadata": {
  "kernelspec": {
   "display_name": "Python 3 (ipykernel)",
   "language": "python",
   "name": "python3"
  },
  "language_info": {
   "codemirror_mode": {
    "name": "ipython",
    "version": 3
   },
   "file_extension": ".py",
   "mimetype": "text/x-python",
   "name": "python",
   "nbconvert_exporter": "python",
   "pygments_lexer": "ipython3",
   "version": "3.11.5"
  }
 },
 "nbformat": 4,
 "nbformat_minor": 5
}
