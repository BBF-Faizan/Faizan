{
 "cells": [
  {
   "cell_type": "code",
   "execution_count": 1,
   "id": "e4d8c651",
   "metadata": {},
   "outputs": [
    {
     "name": "stdout",
     "output_type": "stream",
     "text": [
      "Requirement already satisfied: numpy in c:\\users\\dell\\anaconda3\\lib\\site-packages (1.24.3)\n",
      "Note: you may need to restart the kernel to use updated packages.\n"
     ]
    }
   ],
   "source": [
    "pip install numpy"
   ]
  },
  {
   "cell_type": "code",
   "execution_count": 4,
   "id": "ab5e5948",
   "metadata": {},
   "outputs": [],
   "source": [
    "trainee=[\n",
    "    ['deepak',7398342916,'btech'],\n",
    "    ['abdul',234354,'bca'],\n",
    "    ['suryansh',435435,'bed']\n",
    "]"
   ]
  },
  {
   "cell_type": "code",
   "execution_count": 5,
   "id": "e5da57ea",
   "metadata": {},
   "outputs": [
    {
     "data": {
      "text/plain": [
       "[['deepak', 7398342916, 'btech'],\n",
       " ['abdul', 234354, 'bca'],\n",
       " ['suryansh', 435435, 'bed']]"
      ]
     },
     "execution_count": 5,
     "metadata": {},
     "output_type": "execute_result"
    }
   ],
   "source": [
    "trainee"
   ]
  },
  {
   "cell_type": "code",
   "execution_count": 6,
   "id": "570b6bd3",
   "metadata": {},
   "outputs": [],
   "source": [
    "import numpy as np"
   ]
  },
  {
   "cell_type": "code",
   "execution_count": 7,
   "id": "40ccdfb8",
   "metadata": {},
   "outputs": [],
   "source": [
    "a=np.array(trainee)"
   ]
  },
  {
   "cell_type": "code",
   "execution_count": 21,
   "id": "3f846141",
   "metadata": {},
   "outputs": [
    {
     "data": {
      "text/plain": [
       "array([['deepak', '7398342916', 'btech'],\n",
       "       ['abdul', '234354', 'bca'],\n",
       "       ['suryansh', '435435', 'bed']], dtype='<U21')"
      ]
     },
     "execution_count": 21,
     "metadata": {},
     "output_type": "execute_result"
    }
   ],
   "source": [
    "a"
   ]
  },
  {
   "cell_type": "code",
   "execution_count": 22,
   "id": "8f5cefe1",
   "metadata": {},
   "outputs": [
    {
     "data": {
      "text/plain": [
       "numpy.ndarray"
      ]
     },
     "execution_count": 22,
     "metadata": {},
     "output_type": "execute_result"
    }
   ],
   "source": [
    "type(a)"
   ]
  },
  {
   "cell_type": "code",
   "execution_count": 23,
   "id": "07ef150b",
   "metadata": {},
   "outputs": [
    {
     "data": {
      "text/plain": [
       "array(['abdul', '234354', 'bca'], dtype='<U21')"
      ]
     },
     "execution_count": 23,
     "metadata": {},
     "output_type": "execute_result"
    }
   ],
   "source": [
    "a[1]"
   ]
  },
  {
   "cell_type": "code",
   "execution_count": 24,
   "id": "7af16dbf",
   "metadata": {},
   "outputs": [
    {
     "data": {
      "text/plain": [
       "array([], shape=(0, 3), dtype='<U21')"
      ]
     },
     "execution_count": 24,
     "metadata": {},
     "output_type": "execute_result"
    }
   ],
   "source": [
    "a[3:3]"
   ]
  },
  {
   "cell_type": "code",
   "execution_count": 25,
   "id": "c8c6d613",
   "metadata": {},
   "outputs": [
    {
     "data": {
      "text/plain": [
       "array([['suryansh', '435435', 'bed']], dtype='<U21')"
      ]
     },
     "execution_count": 25,
     "metadata": {},
     "output_type": "execute_result"
    }
   ],
   "source": [
    "a[2:3]"
   ]
  },
  {
   "cell_type": "code",
   "execution_count": 26,
   "id": "1e580580",
   "metadata": {},
   "outputs": [
    {
     "data": {
      "text/plain": [
       "array([['deepak', '7398342916', 'btech'],\n",
       "       ['abdul', '234354', 'bca']], dtype='<U21')"
      ]
     },
     "execution_count": 26,
     "metadata": {},
     "output_type": "execute_result"
    }
   ],
   "source": [
    "a[:2]"
   ]
  },
  {
   "cell_type": "code",
   "execution_count": 27,
   "id": "e45bde0f",
   "metadata": {},
   "outputs": [
    {
     "data": {
      "text/plain": [
       "array([['deepak', '7398342916', 'btech'],\n",
       "       ['abdul', '234354', 'bca'],\n",
       "       ['suryansh', '435435', 'bed']], dtype='<U21')"
      ]
     },
     "execution_count": 27,
     "metadata": {},
     "output_type": "execute_result"
    }
   ],
   "source": [
    "a[:]"
   ]
  },
  {
   "cell_type": "code",
   "execution_count": 28,
   "id": "f5a72eab",
   "metadata": {},
   "outputs": [
    {
     "data": {
      "text/plain": [
       "array([['deepak', '7398342916', 'btech'],\n",
       "       ['abdul', '234354', 'bca'],\n",
       "       ['suryansh', '435435', 'bed']], dtype='<U21')"
      ]
     },
     "execution_count": 28,
     "metadata": {},
     "output_type": "execute_result"
    }
   ],
   "source": [
    "a"
   ]
  },
  {
   "cell_type": "code",
   "execution_count": 29,
   "id": "6a388b5d",
   "metadata": {},
   "outputs": [
    {
     "data": {
      "text/plain": [
       "array(['7398342916', '234354', '435435'], dtype='<U21')"
      ]
     },
     "execution_count": 29,
     "metadata": {},
     "output_type": "execute_result"
    }
   ],
   "source": [
    "a[:,1]"
   ]
  },
  {
   "cell_type": "code",
   "execution_count": 30,
   "id": "d1931dd7",
   "metadata": {},
   "outputs": [
    {
     "data": {
      "text/plain": [
       "array(['btech', 'bca', 'bed'], dtype='<U21')"
      ]
     },
     "execution_count": 30,
     "metadata": {},
     "output_type": "execute_result"
    }
   ],
   "source": [
    "a[:,2]"
   ]
  },
  {
   "cell_type": "code",
   "execution_count": 31,
   "id": "61327b36",
   "metadata": {},
   "outputs": [
    {
     "data": {
      "text/plain": [
       "array(['deepak', 'abdul', 'suryansh'], dtype='<U21')"
      ]
     },
     "execution_count": 31,
     "metadata": {},
     "output_type": "execute_result"
    }
   ],
   "source": [
    "a[:,0]"
   ]
  },
  {
   "cell_type": "code",
   "execution_count": 32,
   "id": "654af744",
   "metadata": {},
   "outputs": [
    {
     "data": {
      "text/plain": [
       "array([['btech'],\n",
       "       ['bca'],\n",
       "       ['bed']], dtype='<U21')"
      ]
     },
     "execution_count": 32,
     "metadata": {},
     "output_type": "execute_result"
    }
   ],
   "source": [
    "a[:,2:3]"
   ]
  },
  {
   "cell_type": "code",
   "execution_count": 33,
   "id": "8ee261ba",
   "metadata": {},
   "outputs": [
    {
     "data": {
      "text/plain": [
       "array([['234354', 'bca'],\n",
       "       ['435435', 'bed']], dtype='<U21')"
      ]
     },
     "execution_count": 33,
     "metadata": {},
     "output_type": "execute_result"
    }
   ],
   "source": [
    "a[1:3,1:3]"
   ]
  },
  {
   "cell_type": "code",
   "execution_count": 1,
   "id": "2416427b",
   "metadata": {},
   "outputs": [
    {
     "data": {
      "text/plain": [
       "array([['amaan', 'salmani', '8090405025', 'lucknow'],\n",
       "       ['roshan', 'singh', '7045988377', 'lucknow '],\n",
       "       ['dev', 'ratan', '8753834458', 'kanpur'],\n",
       "       ['uday', 'khushwaha', '9857984587', 'faizabad'],\n",
       "       ['arkam', 'ansari', '8675498777', 'faizabad'],\n",
       "       ['jhdskjsh', 'dnfkjsd', '1234567890', 'agra'],\n",
       "       ['gfhahfj', 'fjhjktt', '9876543213', 'banaras'],\n",
       "       ['jkjklkj', 'mkkkjjj', '9879879876', 'jaipur'],\n",
       "       ['hjkhgjkh', 'klerjoi', '7878787877', 'goa'],\n",
       "       ['sddllkl', 'hjfhjdd', '3456734567', 'mumbai']], dtype='<U21')"
      ]
     },
     "execution_count": 1,
     "metadata": {},
     "output_type": "execute_result"
    }
   ],
   "source": [
    "import numpy as np\n",
    "\n",
    "\n",
    "\n",
    "friends= [\n",
    "    ['amaan','salmani',8090405025,'lucknow'],\n",
    "    ['roshan','singh',7045988377, 'lucknow '],\n",
    "    ['dev','ratan',8753834458,'kanpur'],\n",
    "    ['uday','khushwaha',9857984587,'faizabad'],\n",
    "    ['arkam','ansari',8675498777,'faizabad'],\n",
    "    ['jhdskjsh','dnfkjsd',1234567890,'agra'],\n",
    "    ['gfhahfj','fjhjktt',9876543213,'banaras'],\n",
    "    ['jkjklkj','mkkkjjj',9879879876,'jaipur'],\n",
    "    ['hjkhgjkh','klerjoi',7878787877,'goa'],\n",
    "    ['sddllkl','hjfhjdd',3456734567,'mumbai'],\n",
    "]\n",
    "\n",
    "\n",
    "c=np.array(friends)\n",
    "\n",
    "c"
   ]
  },
  {
   "cell_type": "code",
   "execution_count": 2,
   "id": "b864cf5f",
   "metadata": {},
   "outputs": [
    {
     "data": {
      "text/plain": [
       "array([['ansari', 'faizabad'],\n",
       "       ['dnfkjsd', 'agra'],\n",
       "       ['fjhjktt', 'banaras'],\n",
       "       ['mkkkjjj', 'jaipur']], dtype='<U21')"
      ]
     },
     "execution_count": 2,
     "metadata": {},
     "output_type": "execute_result"
    }
   ],
   "source": [
    "c[4:8,1:4:2]"
   ]
  },
  {
   "cell_type": "code",
   "execution_count": 3,
   "id": "69695028",
   "metadata": {},
   "outputs": [
    {
     "data": {
      "text/plain": [
       "array([['ansari', 'faizabad'],\n",
       "       ['dnfkjsd', 'agra'],\n",
       "       ['fjhjktt', 'banaras'],\n",
       "       ['mkkkjjj', 'jaipur']], dtype='<U21')"
      ]
     },
     "execution_count": 3,
     "metadata": {},
     "output_type": "execute_result"
    }
   ],
   "source": [
    "c[4:8,[1,3]]"
   ]
  },
  {
   "cell_type": "code",
   "execution_count": 4,
   "id": "72f98a8a",
   "metadata": {},
   "outputs": [],
   "source": [
    "f=c[4:8,1:2]"
   ]
  },
  {
   "cell_type": "code",
   "execution_count": 5,
   "id": "75a564d3",
   "metadata": {},
   "outputs": [
    {
     "data": {
      "text/plain": [
       "array([['ansari'],\n",
       "       ['dnfkjsd'],\n",
       "       ['fjhjktt'],\n",
       "       ['mkkkjjj']], dtype='<U21')"
      ]
     },
     "execution_count": 5,
     "metadata": {},
     "output_type": "execute_result"
    }
   ],
   "source": [
    "f"
   ]
  },
  {
   "cell_type": "code",
   "execution_count": 6,
   "id": "fa6953ab",
   "metadata": {},
   "outputs": [],
   "source": [
    "d=c[4:8,3:4]"
   ]
  },
  {
   "cell_type": "code",
   "execution_count": 7,
   "id": "8c1f56a6",
   "metadata": {},
   "outputs": [
    {
     "data": {
      "text/plain": [
       "array([['faizabad'],\n",
       "       ['agra'],\n",
       "       ['banaras'],\n",
       "       ['jaipur']], dtype='<U21')"
      ]
     },
     "execution_count": 7,
     "metadata": {},
     "output_type": "execute_result"
    }
   ],
   "source": [
    "d"
   ]
  },
  {
   "cell_type": "code",
   "execution_count": 8,
   "id": "ae572c42",
   "metadata": {},
   "outputs": [
    {
     "data": {
      "text/plain": [
       "(array([['ansari'],\n",
       "        ['dnfkjsd'],\n",
       "        ['fjhjktt'],\n",
       "        ['mkkkjjj']], dtype='<U21'),\n",
       " array([['faizabad'],\n",
       "        ['agra'],\n",
       "        ['banaras'],\n",
       "        ['jaipur']], dtype='<U21'))"
      ]
     },
     "execution_count": 8,
     "metadata": {},
     "output_type": "execute_result"
    }
   ],
   "source": [
    "f,d"
   ]
  },
  {
   "cell_type": "code",
   "execution_count": 9,
   "id": "3387e6e6",
   "metadata": {},
   "outputs": [
    {
     "name": "stdout",
     "output_type": "stream",
     "text": [
      "[['ansari']\n",
      " ['dnfkjsd']\n",
      " ['fjhjktt']\n",
      " ['mkkkjjj']] [['faizabad']\n",
      " ['agra']\n",
      " ['banaras']\n",
      " ['jaipur']]\n"
     ]
    }
   ],
   "source": [
    "print(f,d)"
   ]
  },
  {
   "cell_type": "code",
   "execution_count": 17,
   "id": "3558b4e4",
   "metadata": {},
   "outputs": [],
   "source": [
    "s=\"life is a god tier game\""
   ]
  },
  {
   "cell_type": "code",
   "execution_count": 18,
   "id": "25bc3b34",
   "metadata": {},
   "outputs": [
    {
     "data": {
      "text/plain": [
       "'i'"
      ]
     },
     "execution_count": 18,
     "metadata": {},
     "output_type": "execute_result"
    }
   ],
   "source": [
    "s[1]"
   ]
  },
  {
   "cell_type": "code",
   "execution_count": 19,
   "id": "da9d14c5",
   "metadata": {},
   "outputs": [
    {
     "data": {
      "text/plain": [
       "'i'"
      ]
     },
     "execution_count": 19,
     "metadata": {},
     "output_type": "execute_result"
    }
   ],
   "source": [
    "s[5]"
   ]
  },
  {
   "cell_type": "code",
   "execution_count": 20,
   "id": "6f39731f",
   "metadata": {},
   "outputs": [
    {
     "data": {
      "text/plain": [
       "'life'"
      ]
     },
     "execution_count": 20,
     "metadata": {},
     "output_type": "execute_result"
    }
   ],
   "source": [
    "s[:4]"
   ]
  },
  {
   "cell_type": "code",
   "execution_count": 21,
   "id": "b616b280",
   "metadata": {},
   "outputs": [
    {
     "data": {
      "text/plain": [
       "'is a god tier game'"
      ]
     },
     "execution_count": 21,
     "metadata": {},
     "output_type": "execute_result"
    }
   ],
   "source": [
    "s[5:]"
   ]
  },
  {
   "cell_type": "code",
   "execution_count": 23,
   "id": "08caa2c9",
   "metadata": {},
   "outputs": [
    {
     "data": {
      "text/plain": [
       "'god'"
      ]
     },
     "execution_count": 23,
     "metadata": {},
     "output_type": "execute_result"
    }
   ],
   "source": [
    "s[10:13]"
   ]
  },
  {
   "cell_type": "code",
   "execution_count": 1,
   "id": "b6939b3d",
   "metadata": {},
   "outputs": [
    {
     "name": "stdout",
     "output_type": "stream",
     "text": [
      "Note: you may need to restart the kernel to use updated packages.\n"
     ]
    },
    {
     "name": "stderr",
     "output_type": "stream",
     "text": [
      "WARNING: Retrying (Retry(total=4, connect=None, read=None, redirect=None, status=None)) after connection broken by 'NewConnectionError('<pip._vendor.urllib3.connection.HTTPSConnection object at 0x000002A5DAFBD890>: Failed to establish a new connection: [Errno 11001] getaddrinfo failed')': /simple/smtplib/\n",
      "WARNING: Retrying (Retry(total=3, connect=None, read=None, redirect=None, status=None)) after connection broken by 'NewConnectionError('<pip._vendor.urllib3.connection.HTTPSConnection object at 0x000002A5DF08E890>: Failed to establish a new connection: [Errno 11001] getaddrinfo failed')': /simple/smtplib/\n",
      "WARNING: Retrying (Retry(total=2, connect=None, read=None, redirect=None, status=None)) after connection broken by 'NewConnectionError('<pip._vendor.urllib3.connection.HTTPSConnection object at 0x000002A5DF0A1990>: Failed to establish a new connection: [Errno 11001] getaddrinfo failed')': /simple/smtplib/\n",
      "WARNING: Retrying (Retry(total=1, connect=None, read=None, redirect=None, status=None)) after connection broken by 'NewConnectionError('<pip._vendor.urllib3.connection.HTTPSConnection object at 0x000002A5DF091F90>: Failed to establish a new connection: [Errno 11001] getaddrinfo failed')': /simple/smtplib/\n",
      "WARNING: Retrying (Retry(total=0, connect=None, read=None, redirect=None, status=None)) after connection broken by 'NewConnectionError('<pip._vendor.urllib3.connection.HTTPSConnection object at 0x000002A5DBE3F750>: Failed to establish a new connection: [Errno 11001] getaddrinfo failed')': /simple/smtplib/\n",
      "ERROR: Could not find a version that satisfies the requirement smtplib (from versions: none)\n",
      "ERROR: No matching distribution found for smtplib\n"
     ]
    }
   ],
   "source": [
    "pip install smtplib"
   ]
  },
  {
   "cell_type": "code",
   "execution_count": null,
   "id": "65f9371f",
   "metadata": {},
   "outputs": [],
   "source": [
    "import smtplib\n",
    "server = smtplib.SMTP(\"smtp.gmail.com\",587)\n",
    "server.starttls()\n",
    "server.login(\"mohdfaizanrashid@gmail\",'')"
   ]
  },
  {
   "cell_type": "code",
   "execution_count": null,
   "id": "c57b02c9",
   "metadata": {},
   "outputs": [],
   "source": []
  }
 ],
 "metadata": {
  "kernelspec": {
   "display_name": "Python 3 (ipykernel)",
   "language": "python",
   "name": "python3"
  },
  "language_info": {
   "codemirror_mode": {
    "name": "ipython",
    "version": 3
   },
   "file_extension": ".py",
   "mimetype": "text/x-python",
   "name": "python",
   "nbconvert_exporter": "python",
   "pygments_lexer": "ipython3",
   "version": "3.11.5"
  }
 },
 "nbformat": 4,
 "nbformat_minor": 5
}
