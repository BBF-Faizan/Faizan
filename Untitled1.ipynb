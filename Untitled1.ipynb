{
 "cells": [
  {
   "cell_type": "code",
   "execution_count": 3,
   "id": "b45fc1af",
   "metadata": {},
   "outputs": [
    {
     "name": "stdout",
     "output_type": "stream",
     "text": [
      "Requirement already satisfied: pyttsx3 in c:\\users\\dell\\anaconda3\\lib\\site-packages (2.90)\n",
      "Requirement already satisfied: comtypes in c:\\users\\dell\\anaconda3\\lib\\site-packages (from pyttsx3) (1.2.0)\n",
      "Requirement already satisfied: pypiwin32 in c:\\users\\dell\\anaconda3\\lib\\site-packages (from pyttsx3) (223)\n",
      "Requirement already satisfied: pywin32 in c:\\users\\dell\\anaconda3\\lib\\site-packages (from pyttsx3) (305.1)\n",
      "Note: you may need to restart the kernel to use updated packages.\n"
     ]
    }
   ],
   "source": [
    "pip install pyttsx3"
   ]
  },
  {
   "cell_type": "code",
   "execution_count": 10,
   "id": "14130594",
   "metadata": {},
   "outputs": [],
   "source": [
    "import pyttsx3\n",
    "cs = pyttsx3.init()\n",
    "cs.say(\"hello  , trainee did you understand it \")\n",
    "cs.runAndWait()"
   ]
  },
  {
   "cell_type": "code",
   "execution_count": 5,
   "id": "1e1b68ee",
   "metadata": {},
   "outputs": [],
   "source": [
    "voices = cs.getProperty('voices')\n",
    "for voice in voices :\n",
    "    cs.setProperty('voice',voice.id)"
   ]
  },
  {
   "cell_type": "code",
   "execution_count": 9,
   "id": "edda3896",
   "metadata": {},
   "outputs": [],
   "source": [
    "cs.setProperty('rate',500)"
   ]
  },
  {
   "cell_type": "code",
   "execution_count": null,
   "id": "0106359e",
   "metadata": {},
   "outputs": [],
   "source": []
  }
 ],
 "metadata": {
  "kernelspec": {
   "display_name": "Python 3 (ipykernel)",
   "language": "python",
   "name": "python3"
  },
  "language_info": {
   "codemirror_mode": {
    "name": "ipython",
    "version": 3
   },
   "file_extension": ".py",
   "mimetype": "text/x-python",
   "name": "python",
   "nbconvert_exporter": "python",
   "pygments_lexer": "ipython3",
   "version": "3.11.5"
  }
 },
 "nbformat": 4,
 "nbformat_minor": 5
}
