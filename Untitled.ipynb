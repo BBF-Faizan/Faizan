{
 "cells": [
  {
   "cell_type": "code",
   "execution_count": 1,
   "id": "9b91c985",
   "metadata": {},
   "outputs": [
    {
     "name": "stdout",
     "output_type": "stream",
     "text": [
      "Requirement already satisfied: pyttsx3 in c:\\users\\dell\\anaconda3\\lib\\site-packages (2.90)\n",
      "Requirement already satisfied: comtypes in c:\\users\\dell\\anaconda3\\lib\\site-packages (from pyttsx3) (1.2.0)\n",
      "Requirement already satisfied: pypiwin32 in c:\\users\\dell\\anaconda3\\lib\\site-packages (from pyttsx3) (223)\n",
      "Requirement already satisfied: pywin32 in c:\\users\\dell\\anaconda3\\lib\\site-packages (from pyttsx3) (305.1)\n",
      "Note: you may need to restart the kernel to use updated packages.\n"
     ]
    }
   ],
   "source": [
    "pip install pyttsx3\n"
   ]
  },
  {
   "cell_type": "code",
   "execution_count": 2,
   "id": "b57ee65e",
   "metadata": {},
   "outputs": [],
   "source": [
    "import pyttsx3 as py"
   ]
  },
  {
   "cell_type": "code",
   "execution_count": 3,
   "id": "0880082b",
   "metadata": {},
   "outputs": [],
   "source": [
    "tt=py.init()"
   ]
  },
  {
   "cell_type": "code",
   "execution_count": 13,
   "id": "94ea9ece",
   "metadata": {},
   "outputs": [],
   "source": [
    "voices = tt.getProperty('voices')\n",
    "for voice in voices:\n",
    "   tt.setProperty('voice',voice.id)"
   ]
  },
  {
   "cell_type": "code",
   "execution_count": 16,
   "id": "491e7dd8",
   "metadata": {},
   "outputs": [],
   "source": [
    "tt.say(\"hello faizan\")\n",
    "tt.runAndWait()"
   ]
  },
  {
   "cell_type": "code",
   "execution_count": 15,
   "id": "c1d8fa9d",
   "metadata": {},
   "outputs": [],
   "source": [
    "tt.setProperty('rate',100)"
   ]
  },
  {
   "cell_type": "code",
   "execution_count": null,
   "id": "914e5a77",
   "metadata": {},
   "outputs": [],
   "source": [
    "pip "
   ]
  }
 ],
 "metadata": {
  "kernelspec": {
   "display_name": "Python 3 (ipykernel)",
   "language": "python",
   "name": "python3"
  },
  "language_info": {
   "codemirror_mode": {
    "name": "ipython",
    "version": 3
   },
   "file_extension": ".py",
   "mimetype": "text/x-python",
   "name": "python",
   "nbconvert_exporter": "python",
   "pygments_lexer": "ipython3",
   "version": "3.11.5"
  }
 },
 "nbformat": 4,
 "nbformat_minor": 5
}
